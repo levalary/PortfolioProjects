{
 "cells": [
  {
   "cell_type": "markdown",
   "id": "fd0021b8",
   "metadata": {},
   "source": [
    "#First Notebook\n"
   ]
  },
  {
   "cell_type": "code",
   "execution_count": 26,
   "id": "ef0ab9ab",
   "metadata": {},
   "outputs": [
    {
     "name": "stdout",
     "output_type": "stream",
     "text": [
      "Enter your nameTim\n",
      "Enter your weight in pounds: 150\n",
      "Enter your height in inches: 56\n",
      "Tim, you are obese\n"
     ]
    }
   ],
   "source": [
    "name = input('Enter your name')\n",
    "weight = int(input('Enter your weight in pounds: '))\n",
    "height = int(input('Enter your height in inches: '))\n",
    "BMI = (weight*703)/(height*height)\n",
    "if BMI >0 :\n",
    "    if BMI <18.5:\n",
    "        print(name +\", you are underweight\")\n",
    "    elif BMI <24.9:\n",
    "        print(name +\", your weight is normal\")\n",
    "    elif BMI <29.9:\n",
    "        print(name +\", you are overweight\")\n",
    "    elif BMI <34.9:\n",
    "        print(name + \", you are obese\")\n",
    "    elif BMI <39.9:\n",
    "        print(name +\", you are mormidly obesed\")\n",
    "    else:\n",
    "        print(name +\", enter valid inputs\")\n",
    "        "
   ]
  },
  {
   "cell_type": "code",
   "execution_count": null,
   "id": "5cb10ff1",
   "metadata": {},
   "outputs": [],
   "source": []
  },
  {
   "cell_type": "code",
   "execution_count": null,
   "id": "a3fc5136",
   "metadata": {},
   "outputs": [],
   "source": []
  },
  {
   "cell_type": "code",
   "execution_count": null,
   "id": "dc583977",
   "metadata": {},
   "outputs": [],
   "source": []
  },
  {
   "cell_type": "code",
   "execution_count": null,
   "id": "52c7a509",
   "metadata": {},
   "outputs": [],
   "source": []
  },
  {
   "cell_type": "code",
   "execution_count": null,
   "id": "8d9ef76d",
   "metadata": {},
   "outputs": [],
   "source": []
  },
  {
   "cell_type": "code",
   "execution_count": null,
   "id": "5fc7f5bd",
   "metadata": {},
   "outputs": [],
   "source": []
  },
  {
   "cell_type": "code",
   "execution_count": null,
   "id": "0fbf81a2",
   "metadata": {},
   "outputs": [],
   "source": []
  },
  {
   "cell_type": "code",
   "execution_count": null,
   "id": "98460314",
   "metadata": {},
   "outputs": [],
   "source": []
  },
  {
   "cell_type": "code",
   "execution_count": null,
   "id": "f2618c4a",
   "metadata": {},
   "outputs": [],
   "source": []
  },
  {
   "cell_type": "code",
   "execution_count": null,
   "id": "f5628b5c",
   "metadata": {},
   "outputs": [],
   "source": []
  },
  {
   "cell_type": "code",
   "execution_count": null,
   "id": "b0a755e4",
   "metadata": {},
   "outputs": [],
   "source": []
  },
  {
   "cell_type": "code",
   "execution_count": null,
   "id": "dfa90248",
   "metadata": {},
   "outputs": [],
   "source": []
  },
  {
   "cell_type": "code",
   "execution_count": null,
   "id": "5467a539",
   "metadata": {},
   "outputs": [],
   "source": []
  }
 ],
 "metadata": {
  "kernelspec": {
   "display_name": "Python 3 (ipykernel)",
   "language": "python",
   "name": "python3"
  },
  "language_info": {
   "codemirror_mode": {
    "name": "ipython",
    "version": 3
   },
   "file_extension": ".py",
   "mimetype": "text/x-python",
   "name": "python",
   "nbconvert_exporter": "python",
   "pygments_lexer": "ipython3",
   "version": "3.9.13"
  }
 },
 "nbformat": 4,
 "nbformat_minor": 5
}
